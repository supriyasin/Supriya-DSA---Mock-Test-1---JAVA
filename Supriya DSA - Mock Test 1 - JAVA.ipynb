{
 "cells": [
  {
   "cell_type": "code",
   "execution_count": 1,
   "id": "b6fe3e33",
   "metadata": {},
   "outputs": [
    {
     "name": "stdout",
     "output_type": "stream",
     "text": [
      "[1, 3, 12, 0, 0]\n",
      "[0]\n"
     ]
    }
   ],
   "source": [
    "#Move Zeroes\n",
    "\n",
    "Given an integer array nums, move all 0's to the end of it while maintaining the relative order of the non-zero elements.\n",
    "\n",
    "Note that you must do this in-place without making a copy of the array.\n",
    "\n",
    "Example 1:\n",
    "Input: nums = [0,1,0,3,12]\n",
    "Output: [1,3,12,0,0]\n",
    "\n",
    "Example 2:\n",
    "Input: nums = [0]\n",
    "Output: [0]\n",
    "\n",
    "Constraints:\n",
    "a. 1 <= nums.length <= 10^4\n",
    "b. -2^31 <= nums[i] <= 2^31 - 1\n",
    "\n",
    "Note: Create a GitHub file for the solution and add the file link the the answer section below.\n",
    "    \n",
    "#Here is a Python solution to move all the zeroes to the end of the array while maintaining the relative order of the\n",
    "non-zero elements:    \n",
    "\n",
    "def moveZeroes(nums):\n",
    "    \"\"\"\n",
    "    Move all zeroes to the end of the array while maintaining the relative order of non-zero elements.\n",
    "    \"\"\"\n",
    "    zero_index = 0  # Index to keep track of the position to place the next non-zero element\n",
    "\n",
    "    # Iterate through the array\n",
    "    for i in range(len(nums)):\n",
    "        if nums[i] != 0:\n",
    "            # If the current element is non-zero, move it to the next available position\n",
    "            nums[zero_index] = nums[i]\n",
    "            zero_index += 1\n",
    "\n",
    "    # Fill the remaining positions from zero_index to the end of the array with zeroes\n",
    "    while zero_index < len(nums):\n",
    "        nums[zero_index] = 0\n",
    "        zero_index += 1\n",
    "\n",
    "    return nums\n",
    "\n",
    "# Testing the function\n",
    "nums = [0, 1, 0, 3, 12]\n",
    "print(moveZeroes(nums))  # Output: [1, 3, 12, 0, 0]\n",
    "\n",
    "nums = [0]\n",
    "print(moveZeroes(nums))  # Output: [0]\n"
   ]
  },
  {
   "cell_type": "code",
   "execution_count": null,
   "id": "1e31a20d",
   "metadata": {},
   "outputs": [],
   "source": []
  }
 ],
 "metadata": {
  "kernelspec": {
   "display_name": "Python 3 (ipykernel)",
   "language": "python",
   "name": "python3"
  },
  "language_info": {
   "codemirror_mode": {
    "name": "ipython",
    "version": 3
   },
   "file_extension": ".py",
   "mimetype": "text/x-python",
   "name": "python",
   "nbconvert_exporter": "python",
   "pygments_lexer": "ipython3",
   "version": "3.9.12"
  }
 },
 "nbformat": 4,
 "nbformat_minor": 5
}
